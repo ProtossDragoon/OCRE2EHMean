{
 "cells": [
  {
   "cell_type": "markdown",
   "metadata": {},
   "source": [
    "`data/real/medicine_validation_gt.json` 을 참고하여 실제 상황에서의 `data/real/medicine_validation_pred.json` 이 없더라도 시간복잡도 등을 테스트해볼 수 있도록 합니다."
   ]
  },
  {
   "cell_type": "code",
   "execution_count": 1,
   "metadata": {},
   "outputs": [
    {
     "data": {
      "text/plain": [
       "[{'id': 0, 'file_name': 'medicine_45946.jpg', 'height': 1893, 'width': 672},\n",
       " {'id': 1, 'file_name': 'medicine_47892.jpg', 'height': 921, 'width': 1341},\n",
       " {'id': 2, 'file_name': 'medicine_08917.jpg', 'height': 1196, 'width': 1447},\n",
       " {'id': 3, 'file_name': 'medicine_30860.jpg', 'height': 1325, 'width': 635},\n",
       " {'id': 4, 'file_name': 'medicine_12878.jpg', 'height': 822, 'width': 1302}]"
      ]
     },
     "execution_count": 1,
     "metadata": {},
     "output_type": "execute_result"
    }
   ],
   "source": [
    "import json\n",
    "with open('../data/real/medicine_validation_gt.json', 'r') as f:\n",
    "    data = json.load(f)\n",
    "data['images'][:5]"
   ]
  },
  {
   "cell_type": "code",
   "execution_count": 2,
   "metadata": {},
   "outputs": [],
   "source": [
    "import random\n",
    "\n",
    "def generate_fake_data(image_w, image_h):\n",
    "    x_center = random.randint(image_w//2-image_w//8,image_w//2+image_w//8)\n",
    "    y_center = random.randint(image_h//2-image_h//8,image_h//2+image_h//8)\n",
    "    x1 = random.randint(x_center-image_w//8, x_center)\n",
    "    x2 = random.randint(x_center-image_w//8, x_center)\n",
    "    x3 = random.randint(x_center, x_center+image_w//8)\n",
    "    x4 = random.randint(x_center, x_center+image_w//8)\n",
    "    y1 = random.randint(y_center-image_h//8, y_center)\n",
    "    y2 = random.randint(y_center, y_center+image_h//8)\n",
    "    y3 = random.randint(y_center, y_center+image_h//8)\n",
    "    y4 = random.randint(y_center-image_h//8, y_center)\n",
    "    \n",
    "    no = random.randint(0, 3)\n",
    "    if no == 0:\n",
    "        sentence = '효과'\n",
    "    elif no == 1:\n",
    "        sentence = '용법'\n",
    "    elif no == 2:\n",
    "        sentence = '용량'\n",
    "    else:\n",
    "        sentence = '첨부문서'\n",
    "    \n",
    "    return x1, y1, x2, y2, x3, y3, x4, y4, sentence"
   ]
  },
  {
   "cell_type": "code",
   "execution_count": 6,
   "metadata": {},
   "outputs": [
    {
     "name": "stderr",
     "output_type": "stream",
     "text": [
      "100%|██████████| 10892/10892 [02:12<00:00, 82.39it/s]\n"
     ]
    }
   ],
   "source": [
    "import os\n",
    "from tqdm import tqdm\n",
    "\n",
    "sep = ',  '\n",
    "save_dirpath = '../data/preprocessed'\n",
    "for image_info in tqdm(data['images']):\n",
    "    image_id = image_info['id']\n",
    "    image_w = image_info['width']\n",
    "    image_h = image_info['height']\n",
    "    pred_per_image = os.path.join(save_dirpath, f'pred_{image_id}.txt')\n",
    "    with open(pred_per_image, 'w') as f:\n",
    "        for _ in range(1000):\n",
    "            x1, y1, x2, y2, x3, y3, x4, y4, sentence = generate_fake_data(image_w, image_h)\n",
    "            x_min = min([x1, x2, x3, x4])\n",
    "            y_min = min([y1, y2, y3, y4])\n",
    "            x_max = max([x1, x2, x3, x4])\n",
    "            y_max = max([y1, y2, y3, y4])\n",
    "            f.write(f'{x1}{sep}{y1}{sep}{x2}{sep}{y2}{sep}{x3}{sep}{y3}{sep}{x4}{sep}{y4}{sep}')\n",
    "            f.write(f'{sentence}\\n')"
   ]
  },
  {
   "cell_type": "code",
   "execution_count": null,
   "metadata": {},
   "outputs": [],
   "source": []
  }
 ],
 "metadata": {
  "kernelspec": {
   "display_name": "Python 3.9.12 ('AiSolutionLabTask')",
   "language": "python",
   "name": "python3"
  },
  "language_info": {
   "codemirror_mode": {
    "name": "ipython",
    "version": 3
   },
   "file_extension": ".py",
   "mimetype": "text/x-python",
   "name": "python",
   "nbconvert_exporter": "python",
   "pygments_lexer": "ipython3",
   "version": "3.9.12"
  },
  "orig_nbformat": 4,
  "vscode": {
   "interpreter": {
    "hash": "790d63ac40a7cca498efa19fdd5b0f56b0cb3b36347418844abe9e4ab4bba922"
   }
  }
 },
 "nbformat": 4,
 "nbformat_minor": 2
}
