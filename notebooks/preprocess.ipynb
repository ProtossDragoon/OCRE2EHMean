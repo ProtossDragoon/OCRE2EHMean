{
 "cells": [
  {
   "cell_type": "code",
   "execution_count": 1,
   "metadata": {},
   "outputs": [],
   "source": [
    "import json\n",
    "with open('../data/real/medicine_validation_gt.json', 'r') as f:\n",
    "    data = json.load(f)"
   ]
  },
  {
   "cell_type": "code",
   "execution_count": 2,
   "metadata": {},
   "outputs": [
    {
     "name": "stdout",
     "output_type": "stream",
     "text": [
      "785567\n"
     ]
    }
   ],
   "source": [
    "import pandas as pd\n",
    "df = pd.DataFrame.from_dict(data['annotations'])\n",
    "print(len(df))"
   ]
  },
  {
   "cell_type": "code",
   "execution_count": 3,
   "metadata": {},
   "outputs": [
    {
     "name": "stdout",
     "output_type": "stream",
     "text": [
      "Remove target: 69\n",
      "After remove: 785498\n"
     ]
    }
   ],
   "source": [
    "label_is_empty = df[df['labels'] == '']\n",
    "not_crowded = label_is_empty['iscrowd'] == 0\n",
    "df = df.drop(label_is_empty[not_crowded].index)\n",
    "\n",
    "print('Remove target:', len(label_is_empty[not_crowded]))\n",
    "print('After remove:', len(df))"
   ]
  },
  {
   "cell_type": "code",
   "execution_count": 4,
   "metadata": {},
   "outputs": [
    {
     "data": {
      "text/plain": [
       "10892"
      ]
     },
     "execution_count": 4,
     "metadata": {},
     "output_type": "execute_result"
    }
   ],
   "source": [
    "# split dataframe by 'image_id' column\n",
    "df_list = [df[df['image_id'] == image_id] for image_id in df['image_id'].unique()]\n",
    "len(df_list)"
   ]
  },
  {
   "cell_type": "code",
   "execution_count": 5,
   "metadata": {},
   "outputs": [
    {
     "data": {
      "text/plain": [
       "array([    0,     1,     2, ..., 10889, 10890, 10891])"
      ]
     },
     "execution_count": 5,
     "metadata": {},
     "output_type": "execute_result"
    }
   ],
   "source": [
    "df['image_id'].unique()"
   ]
  },
  {
   "cell_type": "code",
   "execution_count": 6,
   "metadata": {},
   "outputs": [
    {
     "name": "stderr",
     "output_type": "stream",
     "text": [
      "100%|██████████| 10892/10892 [00:23<00:00, 472.21it/s]\n"
     ]
    }
   ],
   "source": [
    "import os\n",
    "from tqdm import tqdm\n",
    "save_dirpath = '../data/preprocessed'\n",
    "os.makedirs(f'{save_dirpath}', exist_ok=True)\n",
    "\n",
    "def parse_to_txtfile(image_id, df_per_image):\n",
    "    sep = ','\n",
    "    p = os.path.join(save_dirpath, f'gt_{image_id}.txt')\n",
    "    image_w = data['images'][image_id]['width']\n",
    "    image_h = data['images'][image_id]['height']\n",
    "    with open(p, 'w') as f:\n",
    "        for _, row in df_per_image.iterrows():\n",
    "            x1, y1, x2, y2, x3, y3, x4, y4 = row['segmentation'][0]\n",
    "            x_min, y_min, bb_w, bb_h = row[\"bbox\"]\n",
    "            f.write(f'{x1}{sep}{y1}{sep}{x2}{sep}{y2}{sep}{x3}{sep}{y3}{sep}{x4}{sep}{y4}{sep}')\n",
    "            f.write(f'{row[\"labels\"]}\\n')\n",
    "\n",
    "def parse_to_jsonfile(image_id, df_per_image):\n",
    "    # TODO\n",
    "    pass\n",
    "    \n",
    "for image_id, df_per_image in enumerate(tqdm(df_list)):\n",
    "    parse_to_txtfile(image_id, df_per_image)"
   ]
  },
  {
   "cell_type": "code",
   "execution_count": null,
   "metadata": {},
   "outputs": [],
   "source": []
  }
 ],
 "metadata": {
  "kernelspec": {
   "display_name": "Python 3.9.12 ('AiSolutionLabTask')",
   "language": "python",
   "name": "python3"
  },
  "language_info": {
   "codemirror_mode": {
    "name": "ipython",
    "version": 3
   },
   "file_extension": ".py",
   "mimetype": "text/x-python",
   "name": "python",
   "nbconvert_exporter": "python",
   "pygments_lexer": "ipython3",
   "version": "3.9.12"
  },
  "orig_nbformat": 4,
  "vscode": {
   "interpreter": {
    "hash": "790d63ac40a7cca498efa19fdd5b0f56b0cb3b36347418844abe9e4ab4bba922"
   }
  }
 },
 "nbformat": 4,
 "nbformat_minor": 2
}
